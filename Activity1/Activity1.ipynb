{
  "nbformat": 4,
  "nbformat_minor": 0,
  "metadata": {
    "colab": {
      "name": "Activity1.ipynb",
      "provenance": [],
      "collapsed_sections": []
    },
    "kernelspec": {
      "name": "python3",
      "display_name": "Python 3"
    }
  },
  "cells": [
    {
      "cell_type": "code",
      "metadata": {
        "id": "EYVDdabvQPy7",
        "colab_type": "code",
        "colab": {}
      },
      "source": [
        "import pandas as pd\n",
        "import numpy as np"
      ],
      "execution_count": 0,
      "outputs": []
    },
    {
      "cell_type": "code",
      "metadata": {
        "id": "Dh4j9ZvdQWPS",
        "colab_type": "code",
        "outputId": "0e856fe1-35fc-4ee2-e2f8-fa5f8b3c0752",
        "colab": {
          "base_uri": "https://localhost:8080/",
          "height": 34
        }
      },
      "source": [
        "from google.colab import drive\n",
        "drive.mount('/content/drive')"
      ],
      "execution_count": 2,
      "outputs": [
        {
          "output_type": "stream",
          "text": [
            "Drive already mounted at /content/drive; to attempt to forcibly remount, call drive.mount(\"/content/drive\", force_remount=True).\n"
          ],
          "name": "stdout"
        }
      ]
    },
    {
      "cell_type": "code",
      "metadata": {
        "id": "5_av7PkSQw6o",
        "colab_type": "code",
        "outputId": "c7ee84e3-1483-4089-d91b-b3dc13670278",
        "colab": {
          "base_uri": "https://localhost:8080/",
          "height": 204
        }
      },
      "source": [
        "cat_id = pd.read_csv('/content/drive/My Drive/Colab Notebooks/cat_id.csv')\n",
        "cat_id.head()"
      ],
      "execution_count": 3,
      "outputs": [
        {
          "output_type": "execute_result",
          "data": {
            "text/html": [
              "<div>\n",
              "<style scoped>\n",
              "    .dataframe tbody tr th:only-of-type {\n",
              "        vertical-align: middle;\n",
              "    }\n",
              "\n",
              "    .dataframe tbody tr th {\n",
              "        vertical-align: top;\n",
              "    }\n",
              "\n",
              "    .dataframe thead th {\n",
              "        text-align: right;\n",
              "    }\n",
              "</style>\n",
              "<table border=\"1\" class=\"dataframe\">\n",
              "  <thead>\n",
              "    <tr style=\"text-align: right;\">\n",
              "      <th></th>\n",
              "      <th>cat_id</th>\n",
              "      <th>cat_name</th>\n",
              "    </tr>\n",
              "  </thead>\n",
              "  <tbody>\n",
              "    <tr>\n",
              "      <th>0</th>\n",
              "      <td>2</td>\n",
              "      <td>Japanese</td>\n",
              "    </tr>\n",
              "    <tr>\n",
              "      <th>1</th>\n",
              "      <td>3</td>\n",
              "      <td>Thai</td>\n",
              "    </tr>\n",
              "    <tr>\n",
              "      <th>2</th>\n",
              "      <td>4</td>\n",
              "      <td>Chinese</td>\n",
              "    </tr>\n",
              "    <tr>\n",
              "      <th>3</th>\n",
              "      <td>5</td>\n",
              "      <td>Italian</td>\n",
              "    </tr>\n",
              "    <tr>\n",
              "      <th>4</th>\n",
              "      <td>6</td>\n",
              "      <td>Korean</td>\n",
              "    </tr>\n",
              "  </tbody>\n",
              "</table>\n",
              "</div>"
            ],
            "text/plain": [
              "   cat_id  cat_name\n",
              "0       2  Japanese\n",
              "1       3      Thai\n",
              "2       4   Chinese\n",
              "3       5   Italian\n",
              "4       6    Korean"
            ]
          },
          "metadata": {
            "tags": []
          },
          "execution_count": 3
        }
      ]
    },
    {
      "cell_type": "code",
      "metadata": {
        "id": "NXrAcoQ9RUqJ",
        "colab_type": "code",
        "outputId": "b68932ce-c864-4e46-b6dc-10a63e6d5ca4",
        "colab": {
          "base_uri": "https://localhost:8080/",
          "height": 204
        }
      },
      "source": [
        "wongnai = pd.read_csv('/content/drive/My Drive/Colab Notebooks/wongnai.csv')\n",
        "wongnai.head()"
      ],
      "execution_count": 4,
      "outputs": [
        {
          "output_type": "execute_result",
          "data": {
            "text/html": [
              "<div>\n",
              "<style scoped>\n",
              "    .dataframe tbody tr th:only-of-type {\n",
              "        vertical-align: middle;\n",
              "    }\n",
              "\n",
              "    .dataframe tbody tr th {\n",
              "        vertical-align: top;\n",
              "    }\n",
              "\n",
              "    .dataframe thead th {\n",
              "        text-align: right;\n",
              "    }\n",
              "</style>\n",
              "<table border=\"1\" class=\"dataframe\">\n",
              "  <thead>\n",
              "    <tr style=\"text-align: right;\">\n",
              "      <th></th>\n",
              "      <th>Unnamed: 0</th>\n",
              "      <th>id</th>\n",
              "      <th>name</th>\n",
              "      <th>category_id</th>\n",
              "      <th>city_id</th>\n",
              "      <th>latitude</th>\n",
              "      <th>longitude</th>\n",
              "      <th>price_range</th>\n",
              "      <th>avg_price</th>\n",
              "      <th>number_of_bookmarks</th>\n",
              "      <th>number_of_favorite_bookmarks</th>\n",
              "      <th>top</th>\n",
              "      <th>best_of_wongnai</th>\n",
              "      <th>number_of_checkins</th>\n",
              "      <th>all_time_score</th>\n",
              "    </tr>\n",
              "  </thead>\n",
              "  <tbody>\n",
              "    <tr>\n",
              "      <th>0</th>\n",
              "      <td>0</td>\n",
              "      <td>2</td>\n",
              "      <td>บ้านกลมกิ๊ก</td>\n",
              "      <td>3.0</td>\n",
              "      <td>1.0</td>\n",
              "      <td>13.738962</td>\n",
              "      <td>100.550248</td>\n",
              "      <td>2.0</td>\n",
              "      <td>175.0</td>\n",
              "      <td>294</td>\n",
              "      <td>84</td>\n",
              "      <td>1</td>\n",
              "      <td>NaN</td>\n",
              "      <td>32</td>\n",
              "      <td>22487.872358</td>\n",
              "    </tr>\n",
              "    <tr>\n",
              "      <th>1</th>\n",
              "      <td>1</td>\n",
              "      <td>3</td>\n",
              "      <td>โรงเบียร์เยอรมันตะวันแดง</td>\n",
              "      <td>33.0</td>\n",
              "      <td>1.0</td>\n",
              "      <td>13.842320</td>\n",
              "      <td>100.634959</td>\n",
              "      <td>3.0</td>\n",
              "      <td>NaN</td>\n",
              "      <td>2</td>\n",
              "      <td>2</td>\n",
              "      <td>0</td>\n",
              "      <td>NaN</td>\n",
              "      <td>0</td>\n",
              "      <td>92.900000</td>\n",
              "    </tr>\n",
              "    <tr>\n",
              "      <th>2</th>\n",
              "      <td>2</td>\n",
              "      <td>4</td>\n",
              "      <td>Kosirae</td>\n",
              "      <td>43.0</td>\n",
              "      <td>1.0</td>\n",
              "      <td>13.724999</td>\n",
              "      <td>100.579715</td>\n",
              "      <td>3.0</td>\n",
              "      <td>375.0</td>\n",
              "      <td>3405</td>\n",
              "      <td>989</td>\n",
              "      <td>1</td>\n",
              "      <td>66.0</td>\n",
              "      <td>173</td>\n",
              "      <td>239274.950390</td>\n",
              "    </tr>\n",
              "    <tr>\n",
              "      <th>3</th>\n",
              "      <td>3</td>\n",
              "      <td>5</td>\n",
              "      <td>Ho Kitchen Seafood Rama 3</td>\n",
              "      <td>29.0</td>\n",
              "      <td>1.0</td>\n",
              "      <td>13.687333</td>\n",
              "      <td>100.550817</td>\n",
              "      <td>3.0</td>\n",
              "      <td>NaN</td>\n",
              "      <td>94</td>\n",
              "      <td>24</td>\n",
              "      <td>0</td>\n",
              "      <td>NaN</td>\n",
              "      <td>21</td>\n",
              "      <td>13307.512755</td>\n",
              "    </tr>\n",
              "    <tr>\n",
              "      <th>4</th>\n",
              "      <td>4</td>\n",
              "      <td>6</td>\n",
              "      <td>Barley Bistro &amp; Bar</td>\n",
              "      <td>3.0</td>\n",
              "      <td>1.0</td>\n",
              "      <td>13.726499</td>\n",
              "      <td>100.529425</td>\n",
              "      <td>3.0</td>\n",
              "      <td>375.0</td>\n",
              "      <td>249</td>\n",
              "      <td>146</td>\n",
              "      <td>1</td>\n",
              "      <td>NaN</td>\n",
              "      <td>14</td>\n",
              "      <td>19606.094680</td>\n",
              "    </tr>\n",
              "  </tbody>\n",
              "</table>\n",
              "</div>"
            ],
            "text/plain": [
              "   Unnamed: 0  id  ... number_of_checkins  all_time_score\n",
              "0           0   2  ...                 32    22487.872358\n",
              "1           1   3  ...                  0       92.900000\n",
              "2           2   4  ...                173   239274.950390\n",
              "3           3   5  ...                 21    13307.512755\n",
              "4           4   6  ...                 14    19606.094680\n",
              "\n",
              "[5 rows x 15 columns]"
            ]
          },
          "metadata": {
            "tags": []
          },
          "execution_count": 4
        }
      ]
    },
    {
      "cell_type": "code",
      "metadata": {
        "id": "mfQtDLKLVM9l",
        "colab_type": "code",
        "outputId": "6b1e0f50-61ca-4129-e978-c211c03875e5",
        "colab": {
          "base_uri": "https://localhost:8080/",
          "height": 289
        }
      },
      "source": [
        "wongnai.isnull().sum()"
      ],
      "execution_count": 5,
      "outputs": [
        {
          "output_type": "execute_result",
          "data": {
            "text/plain": [
              "Unnamed: 0                           0\n",
              "id                                   0\n",
              "name                                 1\n",
              "category_id                         60\n",
              "city_id                            206\n",
              "latitude                             0\n",
              "longitude                            0\n",
              "price_range                     100196\n",
              "avg_price                       278496\n",
              "number_of_bookmarks                  0\n",
              "number_of_favorite_bookmarks         0\n",
              "top                                  0\n",
              "best_of_wongnai                 283128\n",
              "number_of_checkins                   0\n",
              "all_time_score                       0\n",
              "dtype: int64"
            ]
          },
          "metadata": {
            "tags": []
          },
          "execution_count": 5
        }
      ]
    },
    {
      "cell_type": "code",
      "metadata": {
        "id": "wUeatsN3V1H5",
        "colab_type": "code",
        "outputId": "58db2212-a085-4abb-938c-bd1e73f88f6f",
        "colab": {
          "base_uri": "https://localhost:8080/",
          "height": 34
        }
      },
      "source": [
        "wongnai2 = wongnai.dropna()\n",
        "wongnai2.shape"
      ],
      "execution_count": 6,
      "outputs": [
        {
          "output_type": "execute_result",
          "data": {
            "text/plain": [
              "(264, 15)"
            ]
          },
          "metadata": {
            "tags": []
          },
          "execution_count": 6
        }
      ]
    },
    {
      "cell_type": "markdown",
      "metadata": {
        "id": "HVli25O-WJbW",
        "colab_type": "text"
      },
      "source": [
        "# 1. ข้อมูลนี้มีปัญหาในเรื่องข้อมูลไม่ครบถ้วน หรือติดลบ ที่ไหนบ้าง และเมื่อตัดแถวที่มีข้อมูล NaN หรือ ติดลบแล้วเหลือเท่าไหร่\n",
        "ข้อมูลที่มีปัญหาในแต่ละคอลัมน์ มีจำนวนตามที่แสดงจากโค้ด wongnai.isnull().sum()\n",
        "\n",
        "และเมื่อตัดแถวที่มีปัญหาแล้ว เหลือ 264 แถว"
      ]
    },
    {
      "cell_type": "code",
      "metadata": {
        "id": "zWZdo9V_X0a-",
        "colab_type": "code",
        "outputId": "6e790b50-c806-4042-f732-1c5065cde5d7",
        "colab": {
          "base_uri": "https://localhost:8080/",
          "height": 119
        }
      },
      "source": [
        "wongnai.sort_values(by='best_of_wongnai').head(5)['name']"
      ],
      "execution_count": 7,
      "outputs": [
        {
          "output_type": "execute_result",
          "data": {
            "text/plain": [
              "141447    Water Library Brasserie\n",
              "135966          Caturday cat cafe\n",
              "129258                   Chef Man\n",
              "141406               Din Tai Fung\n",
              "118873                 Eat Am Are\n",
              "Name: name, dtype: object"
            ]
          },
          "metadata": {
            "tags": []
          },
          "execution_count": 7
        }
      ]
    },
    {
      "cell_type": "markdown",
      "metadata": {
        "id": "BjA8v_1VYMLf",
        "colab_type": "text"
      },
      "source": [
        "# 2. จงแสดงชื่อร้านอาหาร 5 อันดับแรกในกลุ่ม Best of Wongnai\n",
        "1. Water Library Brasserie\n",
        "2. Caturday Cat Cafe\n",
        "3. Chef Man\n",
        "4. Din Tai Fung\n",
        "5. Eat Am Are"
      ]
    },
    {
      "cell_type": "code",
      "metadata": {
        "id": "nGgZmiH7wT2V",
        "colab_type": "code",
        "outputId": "ef2630e4-3171-490b-f064-33ef4efe97df",
        "colab": {
          "base_uri": "https://localhost:8080/",
          "height": 483
        }
      },
      "source": [
        "wongnai3 = wongnai[np.isfinite(wongnai['best_of_wongnai'])][['category_id', 'name', 'best_of_wongnai']].reset_index().groupby('category_id')\n",
        "wongnai33 = pd.DataFrame(wongnai3.size()).reset_index()\n",
        "wongnai33.columns = ['cat_id', 'amount']\n",
        "cat_wongnai = pd.merge(cat_id, wongnai33, left_on='cat_id', right_on='cat_id', how='inner')\n",
        "total = cat_wongnai['amount'].sum()\n",
        "cat_wongnai['percent'] = cat_wongnai['amount'] / total * 100\n",
        "cat_wongnai"
      ],
      "execution_count": 8,
      "outputs": [
        {
          "output_type": "execute_result",
          "data": {
            "text/html": [
              "<div>\n",
              "<style scoped>\n",
              "    .dataframe tbody tr th:only-of-type {\n",
              "        vertical-align: middle;\n",
              "    }\n",
              "\n",
              "    .dataframe tbody tr th {\n",
              "        vertical-align: top;\n",
              "    }\n",
              "\n",
              "    .dataframe thead th {\n",
              "        text-align: right;\n",
              "    }\n",
              "</style>\n",
              "<table border=\"1\" class=\"dataframe\">\n",
              "  <thead>\n",
              "    <tr style=\"text-align: right;\">\n",
              "      <th></th>\n",
              "      <th>cat_id</th>\n",
              "      <th>cat_name</th>\n",
              "      <th>amount</th>\n",
              "      <th>percent</th>\n",
              "    </tr>\n",
              "  </thead>\n",
              "  <tbody>\n",
              "    <tr>\n",
              "      <th>0</th>\n",
              "      <td>2</td>\n",
              "      <td>Japanese</td>\n",
              "      <td>14</td>\n",
              "      <td>9.655172</td>\n",
              "    </tr>\n",
              "    <tr>\n",
              "      <th>1</th>\n",
              "      <td>3</td>\n",
              "      <td>Thai</td>\n",
              "      <td>36</td>\n",
              "      <td>24.827586</td>\n",
              "    </tr>\n",
              "    <tr>\n",
              "      <th>2</th>\n",
              "      <td>4</td>\n",
              "      <td>Chinese</td>\n",
              "      <td>18</td>\n",
              "      <td>12.413793</td>\n",
              "    </tr>\n",
              "    <tr>\n",
              "      <th>3</th>\n",
              "      <td>5</td>\n",
              "      <td>Italian</td>\n",
              "      <td>10</td>\n",
              "      <td>6.896552</td>\n",
              "    </tr>\n",
              "    <tr>\n",
              "      <th>4</th>\n",
              "      <td>6</td>\n",
              "      <td>Korean</td>\n",
              "      <td>4</td>\n",
              "      <td>2.758621</td>\n",
              "    </tr>\n",
              "    <tr>\n",
              "      <th>5</th>\n",
              "      <td>7</td>\n",
              "      <td>Vietnam</td>\n",
              "      <td>8</td>\n",
              "      <td>5.517241</td>\n",
              "    </tr>\n",
              "    <tr>\n",
              "      <th>6</th>\n",
              "      <td>8</td>\n",
              "      <td>American</td>\n",
              "      <td>2</td>\n",
              "      <td>1.379310</td>\n",
              "    </tr>\n",
              "    <tr>\n",
              "      <th>7</th>\n",
              "      <td>9</td>\n",
              "      <td>French</td>\n",
              "      <td>6</td>\n",
              "      <td>4.137931</td>\n",
              "    </tr>\n",
              "    <tr>\n",
              "      <th>8</th>\n",
              "      <td>10</td>\n",
              "      <td>Indian</td>\n",
              "      <td>3</td>\n",
              "      <td>2.068966</td>\n",
              "    </tr>\n",
              "    <tr>\n",
              "      <th>9</th>\n",
              "      <td>11</td>\n",
              "      <td>Buffet</td>\n",
              "      <td>1</td>\n",
              "      <td>0.689655</td>\n",
              "    </tr>\n",
              "    <tr>\n",
              "      <th>10</th>\n",
              "      <td>12</td>\n",
              "      <td>Street Food</td>\n",
              "      <td>1</td>\n",
              "      <td>0.689655</td>\n",
              "    </tr>\n",
              "    <tr>\n",
              "      <th>11</th>\n",
              "      <td>13</td>\n",
              "      <td>Fusion Food</td>\n",
              "      <td>4</td>\n",
              "      <td>2.758621</td>\n",
              "    </tr>\n",
              "    <tr>\n",
              "      <th>12</th>\n",
              "      <td>14</td>\n",
              "      <td>Coffee Shop</td>\n",
              "      <td>30</td>\n",
              "      <td>20.689655</td>\n",
              "    </tr>\n",
              "    <tr>\n",
              "      <th>13</th>\n",
              "      <td>15</td>\n",
              "      <td>Others</td>\n",
              "      <td>8</td>\n",
              "      <td>5.517241</td>\n",
              "    </tr>\n",
              "  </tbody>\n",
              "</table>\n",
              "</div>"
            ],
            "text/plain": [
              "    cat_id     cat_name  amount    percent\n",
              "0        2     Japanese      14   9.655172\n",
              "1        3         Thai      36  24.827586\n",
              "2        4      Chinese      18  12.413793\n",
              "3        5      Italian      10   6.896552\n",
              "4        6       Korean       4   2.758621\n",
              "5        7      Vietnam       8   5.517241\n",
              "6        8     American       2   1.379310\n",
              "7        9       French       6   4.137931\n",
              "8       10       Indian       3   2.068966\n",
              "9       11       Buffet       1   0.689655\n",
              "10      12  Street Food       1   0.689655\n",
              "11      13  Fusion Food       4   2.758621\n",
              "12      14  Coffee Shop      30  20.689655\n",
              "13      15       Others       8   5.517241"
            ]
          },
          "metadata": {
            "tags": []
          },
          "execution_count": 8
        }
      ]
    },
    {
      "cell_type": "markdown",
      "metadata": {
        "id": "G5STGNulyO8k",
        "colab_type": "text"
      },
      "source": [
        "# 3. จงระบุสัดส่วนของร้านอาหารประเภทต่างๆ ในกลุ่ม Best of Wongnai"
      ]
    },
    {
      "cell_type": "code",
      "metadata": {
        "id": "7HVZaF-qyc83",
        "colab_type": "code",
        "outputId": "6d998579-d335-4e97-cd34-b21520f71d52",
        "colab": {
          "base_uri": "https://localhost:8080/",
          "height": 483
        }
      },
      "source": [
        "cat_wongnai[['cat_name', 'percent']]"
      ],
      "execution_count": 9,
      "outputs": [
        {
          "output_type": "execute_result",
          "data": {
            "text/html": [
              "<div>\n",
              "<style scoped>\n",
              "    .dataframe tbody tr th:only-of-type {\n",
              "        vertical-align: middle;\n",
              "    }\n",
              "\n",
              "    .dataframe tbody tr th {\n",
              "        vertical-align: top;\n",
              "    }\n",
              "\n",
              "    .dataframe thead th {\n",
              "        text-align: right;\n",
              "    }\n",
              "</style>\n",
              "<table border=\"1\" class=\"dataframe\">\n",
              "  <thead>\n",
              "    <tr style=\"text-align: right;\">\n",
              "      <th></th>\n",
              "      <th>cat_name</th>\n",
              "      <th>percent</th>\n",
              "    </tr>\n",
              "  </thead>\n",
              "  <tbody>\n",
              "    <tr>\n",
              "      <th>0</th>\n",
              "      <td>Japanese</td>\n",
              "      <td>9.655172</td>\n",
              "    </tr>\n",
              "    <tr>\n",
              "      <th>1</th>\n",
              "      <td>Thai</td>\n",
              "      <td>24.827586</td>\n",
              "    </tr>\n",
              "    <tr>\n",
              "      <th>2</th>\n",
              "      <td>Chinese</td>\n",
              "      <td>12.413793</td>\n",
              "    </tr>\n",
              "    <tr>\n",
              "      <th>3</th>\n",
              "      <td>Italian</td>\n",
              "      <td>6.896552</td>\n",
              "    </tr>\n",
              "    <tr>\n",
              "      <th>4</th>\n",
              "      <td>Korean</td>\n",
              "      <td>2.758621</td>\n",
              "    </tr>\n",
              "    <tr>\n",
              "      <th>5</th>\n",
              "      <td>Vietnam</td>\n",
              "      <td>5.517241</td>\n",
              "    </tr>\n",
              "    <tr>\n",
              "      <th>6</th>\n",
              "      <td>American</td>\n",
              "      <td>1.379310</td>\n",
              "    </tr>\n",
              "    <tr>\n",
              "      <th>7</th>\n",
              "      <td>French</td>\n",
              "      <td>4.137931</td>\n",
              "    </tr>\n",
              "    <tr>\n",
              "      <th>8</th>\n",
              "      <td>Indian</td>\n",
              "      <td>2.068966</td>\n",
              "    </tr>\n",
              "    <tr>\n",
              "      <th>9</th>\n",
              "      <td>Buffet</td>\n",
              "      <td>0.689655</td>\n",
              "    </tr>\n",
              "    <tr>\n",
              "      <th>10</th>\n",
              "      <td>Street Food</td>\n",
              "      <td>0.689655</td>\n",
              "    </tr>\n",
              "    <tr>\n",
              "      <th>11</th>\n",
              "      <td>Fusion Food</td>\n",
              "      <td>2.758621</td>\n",
              "    </tr>\n",
              "    <tr>\n",
              "      <th>12</th>\n",
              "      <td>Coffee Shop</td>\n",
              "      <td>20.689655</td>\n",
              "    </tr>\n",
              "    <tr>\n",
              "      <th>13</th>\n",
              "      <td>Others</td>\n",
              "      <td>5.517241</td>\n",
              "    </tr>\n",
              "  </tbody>\n",
              "</table>\n",
              "</div>"
            ],
            "text/plain": [
              "       cat_name    percent\n",
              "0      Japanese   9.655172\n",
              "1          Thai  24.827586\n",
              "2       Chinese  12.413793\n",
              "3       Italian   6.896552\n",
              "4        Korean   2.758621\n",
              "5       Vietnam   5.517241\n",
              "6      American   1.379310\n",
              "7        French   4.137931\n",
              "8        Indian   2.068966\n",
              "9        Buffet   0.689655\n",
              "10  Street Food   0.689655\n",
              "11  Fusion Food   2.758621\n",
              "12  Coffee Shop  20.689655\n",
              "13       Others   5.517241"
            ]
          },
          "metadata": {
            "tags": []
          },
          "execution_count": 9
        }
      ]
    },
    {
      "cell_type": "code",
      "metadata": {
        "id": "ShvKI7s4yttu",
        "colab_type": "code",
        "outputId": "aa05f8f3-ae6e-4168-826d-c2de227cd224",
        "colab": {
          "base_uri": "https://localhost:8080/",
          "height": 142
        }
      },
      "source": [
        "wongnai4 = wongnai.groupby(['category_id'])['number_of_checkins'].sum()\n",
        "cat4 = pd.merge(cat_id, wongnai4, left_on='cat_id', right_on='category_id', how='inner')\n",
        "cat4.sort_values(by='number_of_checkins', ascending=False).head(3)"
      ],
      "execution_count": 10,
      "outputs": [
        {
          "output_type": "execute_result",
          "data": {
            "text/html": [
              "<div>\n",
              "<style scoped>\n",
              "    .dataframe tbody tr th:only-of-type {\n",
              "        vertical-align: middle;\n",
              "    }\n",
              "\n",
              "    .dataframe tbody tr th {\n",
              "        vertical-align: top;\n",
              "    }\n",
              "\n",
              "    .dataframe thead th {\n",
              "        text-align: right;\n",
              "    }\n",
              "</style>\n",
              "<table border=\"1\" class=\"dataframe\">\n",
              "  <thead>\n",
              "    <tr style=\"text-align: right;\">\n",
              "      <th></th>\n",
              "      <th>cat_id</th>\n",
              "      <th>cat_name</th>\n",
              "      <th>number_of_checkins</th>\n",
              "    </tr>\n",
              "  </thead>\n",
              "  <tbody>\n",
              "    <tr>\n",
              "      <th>12</th>\n",
              "      <td>14</td>\n",
              "      <td>Coffee Shop</td>\n",
              "      <td>88756</td>\n",
              "    </tr>\n",
              "    <tr>\n",
              "      <th>1</th>\n",
              "      <td>3</td>\n",
              "      <td>Thai</td>\n",
              "      <td>68204</td>\n",
              "    </tr>\n",
              "    <tr>\n",
              "      <th>0</th>\n",
              "      <td>2</td>\n",
              "      <td>Japanese</td>\n",
              "      <td>27721</td>\n",
              "    </tr>\n",
              "  </tbody>\n",
              "</table>\n",
              "</div>"
            ],
            "text/plain": [
              "    cat_id     cat_name  number_of_checkins\n",
              "12      14  Coffee Shop               88756\n",
              "1        3         Thai               68204\n",
              "0        2     Japanese               27721"
            ]
          },
          "metadata": {
            "tags": []
          },
          "execution_count": 10
        }
      ]
    },
    {
      "cell_type": "markdown",
      "metadata": {
        "id": "UMuM3wMKUb3K",
        "colab_type": "text"
      },
      "source": [
        "# 4. จงระบุกลุ่มร้านอาหารทีมีผู้ใช้ไปใช้บริการมากที่สุด 3 อันดับแรก\n",
        "1. Coffee Shop \n",
        "2. Thai\n",
        "3. Japanese\n"
      ]
    },
    {
      "cell_type": "code",
      "metadata": {
        "id": "p5QVGecxS2JY",
        "colab_type": "code",
        "colab": {}
      },
      "source": [
        "import matplotlib.pyplot as plt"
      ],
      "execution_count": 0,
      "outputs": []
    },
    {
      "cell_type": "code",
      "metadata": {
        "id": "5bCT-cP5TF5u",
        "colab_type": "code",
        "colab": {
          "base_uri": "https://localhost:8080/",
          "height": 295
        },
        "outputId": "e427642f-dd69-442b-b1ee-3209789de32f"
      },
      "source": [
        "df6=wongnai.sort_values(by=[\"best_of_wongnai\"]).head(100)\n",
        "df6.head(100).plot(kind='scatter', x='latitude', y='longitude', title='top100 latitude vs longitude');"
      ],
      "execution_count": 12,
      "outputs": [
        {
          "output_type": "display_data",
          "data": {
            "image/png": "[encoded data removed]",
            "text/plain": [
              "<Figure size 432x288 with 1 Axes>"
            ]
          },
          "metadata": {
            "tags": []
          }
        }
      ]
    },
    {
      "cell_type": "markdown",
      "metadata": {
        "id": "te-2zXeZTW4n",
        "colab_type": "text"
      },
      "source": [
        "# 5. ร้านอาหารส่วนใหญ่ใน Top 100 ของ Best of Wongnai ตั้งอยู่ในย่านสีลม"
      ]
    }
  ]
}