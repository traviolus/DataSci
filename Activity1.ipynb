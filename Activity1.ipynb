{
  "nbformat": 4,
  "nbformat_minor": 0,
  "metadata": {
    "colab": {
      "name": "Activity1.ipynb",
      "provenance": [],
      "collapsed_sections": [],
      "authorship_tag": "ABX9TyMUACvgxKhcB3eD/8YKHVuQ",
      "include_colab_link": true
    },
    "kernelspec": {
      "name": "python3",
      "display_name": "Python 3"
    }
  },
  "cells": [
    {
      "cell_type": "markdown",
      "metadata": {
        "id": "view-in-github",
        "colab_type": "text"
      },
      "source": [
        "<a href=\"https://colab.research.google.com/github/traviolus/DataSci/blob/master/Activity1.ipynb\" target=\"_parent\"><img src=\"https://colab.research.google.com/assets/colab-badge.svg\" alt=\"Open In Colab\"/></a>"
      ]
    },
    {
      "cell_type": "code",
      "metadata": {
        "id": "EYVDdabvQPy7",
        "colab_type": "code",
        "colab": {}
      },
      "source": [
        "import pandas as pd"
      ],
      "execution_count": 0,
      "outputs": []
    },
    {
      "cell_type": "code",
      "metadata": {
        "id": "Dh4j9ZvdQWPS",
        "colab_type": "code",
        "colab": {
          "base_uri": "https://localhost:8080/",
          "height": 122
        },
        "outputId": "643af79d-cb04-4aff-f394-1435d8a9ab9f"
      },
      "source": [
        "from google.colab import drive\n",
        "drive.mount('/content/drive')"
      ],
      "execution_count": 1,
      "outputs": [
        {
          "output_type": "stream",
          "text": [
            "Go to this URL in a browser: https://accounts.google.com/o/oauth2/auth?client_id=947318989803-6bn6qk8qdgf4n4g3pfee6491hc0brc4i.apps.googleusercontent.com&redirect_uri=urn%3aietf%3awg%3aoauth%3a2.0%3aoob&response_type=code&scope=email%20https%3a%2f%2fwww.googleapis.com%2fauth%2fdocs.test%20https%3a%2f%2fwww.googleapis.com%2fauth%2fdrive%20https%3a%2f%2fwww.googleapis.com%2fauth%2fdrive.photos.readonly%20https%3a%2f%2fwww.googleapis.com%2fauth%2fpeopleapi.readonly\n",
            "\n",
            "Enter your authorization code:\n",
            "··········\n",
            "Mounted at /content/drive\n"
          ],
          "name": "stdout"
        }
      ]
    },
    {
      "cell_type": "code",
      "metadata": {
        "id": "5_av7PkSQw6o",
        "colab_type": "code",
        "colab": {
          "base_uri": "https://localhost:8080/",
          "height": 204
        },
        "outputId": "68fd03c1-42ab-48c3-acae-1fc080f9ac68"
      },
      "source": [
        "cat_id = pd.read_csv('/content/drive/My Drive/Colab Notebooks/cat_id.csv')\n",
        "cat_id.head()"
      ],
      "execution_count": 4,
      "outputs": [
        {
          "output_type": "execute_result",
          "data": {
            "text/html": [
              "<div>\n",
              "<style scoped>\n",
              "    .dataframe tbody tr th:only-of-type {\n",
              "        vertical-align: middle;\n",
              "    }\n",
              "\n",
              "    .dataframe tbody tr th {\n",
              "        vertical-align: top;\n",
              "    }\n",
              "\n",
              "    .dataframe thead th {\n",
              "        text-align: right;\n",
              "    }\n",
              "</style>\n",
              "<table border=\"1\" class=\"dataframe\">\n",
              "  <thead>\n",
              "    <tr style=\"text-align: right;\">\n",
              "      <th></th>\n",
              "      <th>2</th>\n",
              "      <th>Japanese</th>\n",
              "    </tr>\n",
              "  </thead>\n",
              "  <tbody>\n",
              "    <tr>\n",
              "      <th>0</th>\n",
              "      <td>3</td>\n",
              "      <td>Thai</td>\n",
              "    </tr>\n",
              "    <tr>\n",
              "      <th>1</th>\n",
              "      <td>4</td>\n",
              "      <td>Chinese</td>\n",
              "    </tr>\n",
              "    <tr>\n",
              "      <th>2</th>\n",
              "      <td>5</td>\n",
              "      <td>Italian</td>\n",
              "    </tr>\n",
              "    <tr>\n",
              "      <th>3</th>\n",
              "      <td>6</td>\n",
              "      <td>Korean</td>\n",
              "    </tr>\n",
              "    <tr>\n",
              "      <th>4</th>\n",
              "      <td>7</td>\n",
              "      <td>Vietnam</td>\n",
              "    </tr>\n",
              "  </tbody>\n",
              "</table>\n",
              "</div>"
            ],
            "text/plain": [
              "   2 Japanese\n",
              "0  3     Thai\n",
              "1  4  Chinese\n",
              "2  5  Italian\n",
              "3  6   Korean\n",
              "4  7  Vietnam"
            ]
          },
          "metadata": {
            "tags": []
          },
          "execution_count": 4
        }
      ]
    },
    {
      "cell_type": "code",
      "metadata": {
        "id": "NXrAcoQ9RUqJ",
        "colab_type": "code",
        "colab": {
          "base_uri": "https://localhost:8080/",
          "height": 377
        },
        "outputId": "ec0db5f9-3f78-4771-c3a8-afc4296e2d55"
      },
      "source": [
        "wongnai = pd.read_csv('/content/drive/My Drive/Colab Notebooks/wongnai.csv')\n",
        "wongnai.head()"
      ],
      "execution_count": 5,
      "outputs": [
        {
          "output_type": "execute_result",
          "data": {
            "text/html": [
              "<div>\n",
              "<style scoped>\n",
              "    .dataframe tbody tr th:only-of-type {\n",
              "        vertical-align: middle;\n",
              "    }\n",
              "\n",
              "    .dataframe tbody tr th {\n",
              "        vertical-align: top;\n",
              "    }\n",
              "\n",
              "    .dataframe thead th {\n",
              "        text-align: right;\n",
              "    }\n",
              "</style>\n",
              "<table border=\"1\" class=\"dataframe\">\n",
              "  <thead>\n",
              "    <tr style=\"text-align: right;\">\n",
              "      <th></th>\n",
              "      <th>Unnamed: 0</th>\n",
              "      <th>id</th>\n",
              "      <th>name</th>\n",
              "      <th>category_id</th>\n",
              "      <th>city_id</th>\n",
              "      <th>latitude</th>\n",
              "      <th>longitude</th>\n",
              "      <th>price_range</th>\n",
              "      <th>avg_price</th>\n",
              "      <th>number_of_bookmarks</th>\n",
              "      <th>number_of_favorite_bookmarks</th>\n",
              "      <th>top</th>\n",
              "      <th>best_of_wongnai</th>\n",
              "      <th>number_of_checkins</th>\n",
              "      <th>all_time_score</th>\n",
              "    </tr>\n",
              "  </thead>\n",
              "  <tbody>\n",
              "    <tr>\n",
              "      <th>0</th>\n",
              "      <td>0</td>\n",
              "      <td>2</td>\n",
              "      <td>บ้านกลมกิ๊ก</td>\n",
              "      <td>3.0</td>\n",
              "      <td>1.0</td>\n",
              "      <td>13.738962</td>\n",
              "      <td>100.550248</td>\n",
              "      <td>2.0</td>\n",
              "      <td>175.0</td>\n",
              "      <td>294</td>\n",
              "      <td>84</td>\n",
              "      <td>1</td>\n",
              "      <td>NaN</td>\n",
              "      <td>32</td>\n",
              "      <td>22487.872358</td>\n",
              "    </tr>\n",
              "    <tr>\n",
              "      <th>1</th>\n",
              "      <td>1</td>\n",
              "      <td>3</td>\n",
              "      <td>โรงเบียร์เยอรมันตะวันแดง</td>\n",
              "      <td>33.0</td>\n",
              "      <td>1.0</td>\n",
              "      <td>13.842320</td>\n",
              "      <td>100.634959</td>\n",
              "      <td>3.0</td>\n",
              "      <td>NaN</td>\n",
              "      <td>2</td>\n",
              "      <td>2</td>\n",
              "      <td>0</td>\n",
              "      <td>NaN</td>\n",
              "      <td>0</td>\n",
              "      <td>92.900000</td>\n",
              "    </tr>\n",
              "    <tr>\n",
              "      <th>2</th>\n",
              "      <td>2</td>\n",
              "      <td>4</td>\n",
              "      <td>Kosirae</td>\n",
              "      <td>43.0</td>\n",
              "      <td>1.0</td>\n",
              "      <td>13.724999</td>\n",
              "      <td>100.579715</td>\n",
              "      <td>3.0</td>\n",
              "      <td>375.0</td>\n",
              "      <td>3405</td>\n",
              "      <td>989</td>\n",
              "      <td>1</td>\n",
              "      <td>66.0</td>\n",
              "      <td>173</td>\n",
              "      <td>239274.950390</td>\n",
              "    </tr>\n",
              "    <tr>\n",
              "      <th>3</th>\n",
              "      <td>3</td>\n",
              "      <td>5</td>\n",
              "      <td>Ho Kitchen Seafood Rama 3</td>\n",
              "      <td>29.0</td>\n",
              "      <td>1.0</td>\n",
              "      <td>13.687333</td>\n",
              "      <td>100.550817</td>\n",
              "      <td>3.0</td>\n",
              "      <td>NaN</td>\n",
              "      <td>94</td>\n",
              "      <td>24</td>\n",
              "      <td>0</td>\n",
              "      <td>NaN</td>\n",
              "      <td>21</td>\n",
              "      <td>13307.512755</td>\n",
              "    </tr>\n",
              "    <tr>\n",
              "      <th>4</th>\n",
              "      <td>4</td>\n",
              "      <td>6</td>\n",
              "      <td>Barley Bistro &amp; Bar</td>\n",
              "      <td>3.0</td>\n",
              "      <td>1.0</td>\n",
              "      <td>13.726499</td>\n",
              "      <td>100.529425</td>\n",
              "      <td>3.0</td>\n",
              "      <td>375.0</td>\n",
              "      <td>249</td>\n",
              "      <td>146</td>\n",
              "      <td>1</td>\n",
              "      <td>NaN</td>\n",
              "      <td>14</td>\n",
              "      <td>19606.094680</td>\n",
              "    </tr>\n",
              "  </tbody>\n",
              "</table>\n",
              "</div>"
            ],
            "text/plain": [
              "   Unnamed: 0  id  ... number_of_checkins  all_time_score\n",
              "0           0   2  ...                 32    22487.872358\n",
              "1           1   3  ...                  0       92.900000\n",
              "2           2   4  ...                173   239274.950390\n",
              "3           3   5  ...                 21    13307.512755\n",
              "4           4   6  ...                 14    19606.094680\n",
              "\n",
              "[5 rows x 15 columns]"
            ]
          },
          "metadata": {
            "tags": []
          },
          "execution_count": 5
        }
      ]
    },
    {
      "cell_type": "code",
      "metadata": {
        "id": "mfQtDLKLVM9l",
        "colab_type": "code",
        "colab": {
          "base_uri": "https://localhost:8080/",
          "height": 289
        },
        "outputId": "7c6476d5-8b7e-4603-fa4c-e54d33b79f02"
      },
      "source": [
        "wongnai.isnull().sum()"
      ],
      "execution_count": 34,
      "outputs": [
        {
          "output_type": "execute_result",
          "data": {
            "text/plain": [
              "Unnamed: 0                           0\n",
              "id                                   0\n",
              "name                                 1\n",
              "category_id                         60\n",
              "city_id                            206\n",
              "latitude                             0\n",
              "longitude                            0\n",
              "price_range                     100196\n",
              "avg_price                       278496\n",
              "number_of_bookmarks                  0\n",
              "number_of_favorite_bookmarks         0\n",
              "top                                  0\n",
              "best_of_wongnai                 283128\n",
              "number_of_checkins                   0\n",
              "all_time_score                       0\n",
              "dtype: int64"
            ]
          },
          "metadata": {
            "tags": []
          },
          "execution_count": 34
        }
      ]
    },
    {
      "cell_type": "code",
      "metadata": {
        "id": "wUeatsN3V1H5",
        "colab_type": "code",
        "colab": {
          "base_uri": "https://localhost:8080/",
          "height": 34
        },
        "outputId": "6c67cf08-1ed5-4e85-bb55-86ec8b483226"
      },
      "source": [
        "wongnai2 = wongnai.dropna()\n",
        "wongnai2.shape"
      ],
      "execution_count": 32,
      "outputs": [
        {
          "output_type": "execute_result",
          "data": {
            "text/plain": [
              "(264, 15)"
            ]
          },
          "metadata": {
            "tags": []
          },
          "execution_count": 32
        }
      ]
    },
    {
      "cell_type": "markdown",
      "metadata": {
        "id": "HVli25O-WJbW",
        "colab_type": "text"
      },
      "source": [
        "# 1. ข้อมูลนี้มีปัญหาในเรื่องข้อมูลไม่ครบถ้วน หรือติดลบ ที่ไหนบ้าง และเมื่อตัดแถวที่มีข้อมูล NaN หรือ ติดลบแล้วเหลือเท่าไหร่\n",
        "ข้อมูลที่มีปัญหาในแต่ละคอลัมน์ มีจำนวนตามที่แสดงจากโค้ด wongnai.isnull().sum()\n",
        "\n",
        "และเมื่อตัดแถวที่มีปัญหาแล้ว เหลือ 264 แถว"
      ]
    },
    {
      "cell_type": "code",
      "metadata": {
        "id": "zWZdo9V_X0a-",
        "colab_type": "code",
        "colab": {
          "base_uri": "https://localhost:8080/",
          "height": 119
        },
        "outputId": "c963365b-5988-494f-b9cb-4cfe232c617f"
      },
      "source": [
        "wongnai.sort_values(by='best_of_wongnai').head(5)['name']"
      ],
      "execution_count": 35,
      "outputs": [
        {
          "output_type": "execute_result",
          "data": {
            "text/plain": [
              "141447    Water Library Brasserie\n",
              "135966          Caturday cat cafe\n",
              "129258                   Chef Man\n",
              "141406               Din Tai Fung\n",
              "118873                 Eat Am Are\n",
              "Name: name, dtype: object"
            ]
          },
          "metadata": {
            "tags": []
          },
          "execution_count": 35
        }
      ]
    },
    {
      "cell_type": "markdown",
      "metadata": {
        "id": "BjA8v_1VYMLf",
        "colab_type": "text"
      },
      "source": [
        "# 2. จงแสดงชื่อร้านอาหาร 5 อันดับแรกในกลุ่ม Best of Wongnai\n",
        "1. Water Library Brasserie\n",
        "2. Caturday Cat Cafe\n",
        "3. Chef Man\n",
        "4. Din Tai Fung\n",
        "5. Eat Am Are"
      ]
    },
    {
      "cell_type": "code",
      "metadata": {
        "id": "GRZoSyYRTCvp",
        "colab_type": "code",
        "colab": {
          "base_uri": "https://localhost:8080/",
          "height": 238
        },
        "outputId": "61f0789d-5caf-4064-b488-37e9eae4cb7f"
      },
      "source": [
        "groups = wongnai.reset_index().groupby(\"category_id\")\n",
        "groups.size()"
      ],
      "execution_count": 23,
      "outputs": [
        {
          "output_type": "execute_result",
          "data": {
            "text/plain": [
              "category_id\n",
              "2.0        5713\n",
              "3.0       39458\n",
              "4.0        6860\n",
              "5.0        1873\n",
              "6.0        1459\n",
              "          ...  \n",
              "1201.0       10\n",
              "1202.0        8\n",
              "1300.0      269\n",
              "1400.0       34\n",
              "1500.0      162\n",
              "Length: 129, dtype: int64"
            ]
          },
          "metadata": {
            "tags": []
          },
          "execution_count": 23
        }
      ]
    },
    {
      "cell_type": "code",
      "metadata": {
        "id": "2FzwC5zBTNFH",
        "colab_type": "code",
        "colab": {
          "base_uri": "https://localhost:8080/",
          "height": 102
        },
        "outputId": "1ad42e9d-5d24-4425-86ba-7892b2d7e0d6"
      },
      "source": [
        "wongnai.groupby('category_id').size().sort_values(ascending=False).head(3)"
      ],
      "execution_count": 29,
      "outputs": [
        {
          "output_type": "execute_result",
          "data": {
            "text/plain": [
              "category_id\n",
              "3.0     39458\n",
              "14.0    29814\n",
              "30.0    29759\n",
              "dtype: int64"
            ]
          },
          "metadata": {
            "tags": []
          },
          "execution_count": 29
        }
      ]
    },
    {
      "cell_type": "markdown",
      "metadata": {
        "id": "UMuM3wMKUb3K",
        "colab_type": "text"
      },
      "source": [
        "# 4. จงระบุกลุ่มร้านอาหารทีมีผู้ใช้ไปใช้บริการมากที่สุด 3 อันดับแรก\n",
        "1. 3.0 \n",
        "2. 14.0\n",
        "3. 30.0\n"
      ]
    }
  ]
}